{
  "nbformat": 4,
  "nbformat_minor": 0,
  "metadata": {
    "colab": {
      "provenance": [],
      "authorship_tag": "ABX9TyPVcDDtws26u9gvzH1S8P7X",
      "include_colab_link": true
    },
    "kernelspec": {
      "name": "python3",
      "display_name": "Python 3"
    },
    "language_info": {
      "name": "python"
    }
  },
  "cells": [
    {
      "cell_type": "markdown",
      "metadata": {
        "id": "view-in-github",
        "colab_type": "text"
      },
      "source": [
        "<a href=\"https://colab.research.google.com/github/clausouza9/Ativividade-/blob/main/Untitled2.ipynb\" target=\"_parent\"><img src=\"https://colab.research.google.com/assets/colab-badge.svg\" alt=\"Open In Colab\"/></a>"
      ]
    },
    {
      "cell_type": "code",
      "execution_count": 4,
      "metadata": {
        "colab": {
          "base_uri": "https://localhost:8080/"
        },
        "id": "EQbBBE0lamnj",
        "outputId": "cf276c9b-6750-46d7-e33b-545f652a6bd6"
      },
      "outputs": [
        {
          "output_type": "stream",
          "name": "stdout",
          "text": [
            "A Soma do valor é : 50\n",
            "A Média do valor é: 10.0\n",
            "O valor Maior é: 20\n",
            "O Menor valor é: 2\n"
          ]
        }
      ],
      "source": [
        "import numpy as np\n",
        "\n",
        "\n",
        "valor = np.array([2, 3, 10, 15, 20])\n",
        "\n",
        "soma = np.sum(valor)\n",
        "media = np.mean(valor)\n",
        "maior = np.max(valor)\n",
        "menor = np.min(valor)\n",
        "\n",
        "print(f\"A Soma do valor é : {soma}\")\n",
        "print(f\"A Média do valor é: {media}\")\n",
        "print(f\"O valor Maior é: {maior}\")\n",
        "print(f\"O Menor valor é: {menor}\")\n"
      ]
    },
    {
      "cell_type": "markdown",
      "source": [
        "Exercicio 4"
      ],
      "metadata": {
        "id": "K2KVi4JYanTg"
      }
    }
  ]
}